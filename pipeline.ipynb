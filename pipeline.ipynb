{
 "cells": [
  {
   "cell_type": "code",
   "execution_count": 1,
   "metadata": {},
   "outputs": [],
   "source": [
    "from PIL import Image\n",
    "import cv2 as cv\n",
    "import numpy as np\n",
    "from sklearn.model_selection import train_test_split\n",
    "from ultralytics import SAM\n",
    "import matplotlib.pyplot as plt\n",
    "import math\n",
    "from torch.cuda import is_available\n",
    "from pathlib import Path\n",
    "from scipy import ndimage\n",
    "from tqdm import tqdm\n",
    "from joblib import delayed, Parallel\n",
    "from hashlib import md5\n",
    "import seaborn as sbn"
   ]
  },
  {
   "cell_type": "code",
   "execution_count": 2,
   "metadata": {},
   "outputs": [],
   "source": [
    "def draw(images : list):\n",
    "    images_per_row = 2\n",
    "\n",
    "    num_rows = len(images) // images_per_row + int(len(images) % images_per_row != 0)\n",
    "    fig, axes = plt.subplots(num_rows, images_per_row, figsize=(15, 3 * num_rows))\n",
    "\n",
    "    for i in range(num_rows * images_per_row):\n",
    "        if i < len(images):\n",
    "            ax = axes.flat[i]\n",
    "            img = images[i]\n",
    "\n",
    "            ax.imshow(img)\n",
    "            ax.axis('off')\n",
    "        else:\n",
    "            axes.flat[i].axis('off')\n",
    "\n",
    "    plt.tight_layout()\n",
    "    plt.show()"
   ]
  },
  {
   "cell_type": "code",
   "execution_count": 3,
   "metadata": {},
   "outputs": [],
   "source": [
    "def coords_processing(mask, coords):\n",
    "    coastline_coords = []\n",
    "    row, col = mask.shape\n",
    "\n",
    "    for coord in coords:\n",
    "        r, c = coord[0], coord[1]\n",
    "        neighbours = []\n",
    "\n",
    "        for j in range(r - 1, r + 2):\n",
    "            for k in range(c - 1, c + 2):\n",
    "                if (0 <= j < row) and (0 <= k < col) and j != r and k != c:\n",
    "                    neighbours.append(int(mask[j][k]))\n",
    "\n",
    "        if any([neigh not in [1,3,5] for neigh in neighbours]):\n",
    "            coastline_coords.append((r, c))\n",
    "\n",
    "    return coastline_coords"
   ]
  },
  {
   "cell_type": "code",
   "execution_count": 4,
   "metadata": {},
   "outputs": [],
   "source": [
    "def get_coastlines(img : np.ndarray, mask : np.ndarray):\n",
    "    if mask.shape.__len__() >= 3:\n",
    "        raise ValueError('Expected 2-dim mask')\n",
    "    row, col = mask.shape\n",
    "\n",
    "    coastlines_coord = []\n",
    "    coords = np.argwhere(mask == 255)\n",
    "    #np.append(coords, np.argwhere(mask == 1))\n",
    "    #np.append(coords, np.where(mask == 3))\n",
    "\n",
    "    if coords.shape[0] == 0:\n",
    "        return np.array([])\n",
    "\n",
    "    PROCESS_COUNT = math.ceil(np.log2(coords.shape[0]))\n",
    "\n",
    "    print(f'Mask shape {mask.shape} | Coordinates count : {coords.shape[0]} | Process count : {PROCESS_COUNT} |  Expected time : {coords.shape[0] * 9 / 1e6 }s')\n",
    "\n",
    "    one_range = len(coords) // PROCESS_COUNT\n",
    "    ranges = [(one_range * i, one_range * (i + 1)) for i in range(PROCESS_COUNT - 1)]\n",
    "    ranges += [(ranges[-1][1], len(coords))]\n",
    "\n",
    "    values = Parallel(n_jobs=PROCESS_COUNT)(delayed(coords_processing)(mask, coords[r[0] : r[1]]) for r in ranges)        \n",
    "    for val in values:\n",
    "        coastlines_coord.extend(val)\n",
    "\n",
    "    return np.array(coastlines_coord)"
   ]
  },
  {
   "cell_type": "code",
   "execution_count": 5,
   "metadata": {},
   "outputs": [],
   "source": [
    "def renderPlots(images : list, verbose=True):\n",
    "    if verbose == False:\n",
    "        %matplotlib agg\n",
    "    else:\n",
    "        plt.ion()\n",
    "        plt.show()\n",
    "        %matplotlib inline\n",
    "\n",
    "    fig, axes = plt.subplots(nrows=len(images), figsize=(18,18))\n",
    "    if len(images) == 1:\n",
    "        axes = [axes]\n",
    "    \n",
    "    for i in range(len(images)):\n",
    "        axes[i].imshow(images[i])\n",
    "\n",
    "    return fig"
   ]
  },
  {
   "cell_type": "code",
   "execution_count": 6,
   "metadata": {},
   "outputs": [],
   "source": [
    "def getCoastlineDistance(img : np.ndarray, mode='S'):\n",
    "    gray = cv.cvtColor(img, cv.COLOR_BGR2GRAY)\n",
    "    blur = cv.GaussianBlur(gray, (11,11), sigmaX=2, sigmaY=2)\n",
    "    row, col, _ = img.shape\n",
    "\n",
    "    erode_kernel = np.ones((3,3), np.uint8)\n",
    "    dilate_kernel = np.ones((5,5), np.uint8)\n",
    "\n",
    "    adaptiveThresh = cv.adaptiveThreshold(blur, 255, cv.ADAPTIVE_THRESH_GAUSSIAN_C, cv.THRESH_BINARY_INV, 11, 2)\n",
    "    ret, thresh = cv.threshold(blur, 0, 255, cv.THRESH_BINARY + cv.THRESH_OTSU)\n",
    "\n",
    "    thresh = np.uint8(thresh + adaptiveThresh)\n",
    "\n",
    "    #dilate = cv.dilate(erode, dilate_kernel, iterations=10).astype(np.uint8)\n",
    "    erode = cv.erode(thresh, erode_kernel, iterations=2).astype(np.uint8)\n",
    "    erode = cv.dilate(erode, erode_kernel, iterations=3).astype(np.uint8)\n",
    "\n",
    "    rotated_positive = cv.resize(ndimage.rotate(erode, 1), (col, row), fx=1, fy=1, interpolation=cv.INTER_CUBIC)\n",
    "    rotated_negative = cv.resize(ndimage.rotate(erode, -1), (col, row), fx=1, fy=1, interpolation=cv.INTER_CUBIC)\n",
    "    \n",
    "    erode = np.uint8(rotated_negative + rotated_positive + erode)\n",
    "\n",
    "    closing = cv.morphologyEx(erode, kernel=dilate_kernel, iterations=10, op=cv.MORPH_CLOSE)\n",
    "    closing = 255 - closing\n",
    "\n",
    "    ret, closing = cv.threshold(closing, 128, 255, cv.THRESH_BINARY)\n",
    "\n",
    "    dist = cv.distanceTransform(closing, cv.DIST_L2, 0)\n",
    "    dist = cv.normalize(dist, dist, 0, 1.0, cv.NORM_MINMAX)\n",
    "\n",
    "    if mode == 'W':\n",
    "        fig = renderPlots([img, thresh, erode, closing, dist], verbose=False)\n",
    "        plt.savefig('./figures/' + md5(img).hexdigest() + '.jpg')\n",
    "    elif mode == 'V':\n",
    "        _ = renderPlots([img, thresh, erode, closing, dist])\n",
    "        plt.show()\n",
    "        plt.clf()\n",
    "\n",
    "    return dist, erode, closing\n",
    "\n",
    "def getMarkers(src : np.ndarray, dist : np.ndarray, dilate : np.ndarray, closing : np.ndarray, mode='S'):\n",
    "    cnts, val = np.histogram(dist.ravel())\n",
    "    grad = np.abs(np.gradient(cnts)[1:]) # skip first delta\n",
    "\n",
    "    thresh_coef = val[np.argmax(grad) + 1]\n",
    "    ret, dist_thresh = cv.threshold(dist, thresh_coef, 255, cv.THRESH_BINARY)\n",
    "    dist_thresh = dist_thresh.astype(np.uint8)\n",
    "\n",
    "    dist_thresh = cv.bitwise_and(dist_thresh, closing)\n",
    "\n",
    "    #dist_thresh =  ndimage.binary_fill_holes(dist_thresh, structure=np.ones((5, 5))).astype(np.uint8)\n",
    "    \n",
    "    s = cv.subtract(closing, dist_thresh)\n",
    "\n",
    "    ret, markers = cv.connectedComponents(dist_thresh)\n",
    "    #markers += 1    \n",
    "\n",
    "    markers[s == 255] = 0\n",
    "\n",
    "    if mode == 'W':\n",
    "        _ = renderPlots([dist_thresh, s, markers], verbose=False)\n",
    "        plt.savefig('./figures/' + md5(src).hexdigest() + '_2.jpg')\n",
    "    elif mode == 'V':\n",
    "        print(thresh_coef)\n",
    "        _ = renderPlots([dist_thresh, s, markers])\n",
    "        plt.show()\n",
    "        plt.clf()\n",
    "\n",
    "    return markers, dist_thresh"
   ]
  },
  {
   "cell_type": "code",
   "execution_count": 7,
   "metadata": {},
   "outputs": [],
   "source": [
    "def processMask(path : str):\n",
    "    gray = cv.imread(path, cv.IMREAD_GRAYSCALE)\n",
    "    blur = cv.GaussianBlur(gray, (5, 5), 2, 2)\n",
    "    ret, thresh = cv.threshold(blur, 128, 255, cv.THRESH_BINARY)\n",
    "\n",
    "    row, col = gray.shape\n",
    "    pipe = cv.erode(thresh, np.ones((2,2), np.uint8), iterations=3)\n",
    "    pipe = cv.dilate(pipe, np.ones((2,2), np.uint8), iterations=3)\n",
    "    pipe = ndimage.binary_fill_holes(pipe).astype(np.uint8)\n",
    "    \n",
    "    conts, hier = cv.findContours(pipe, cv.RETR_EXTERNAL, cv.CHAIN_APPROX_SIMPLE)\n",
    "    if len(conts) == 0:\n",
    "        return np.zeros((col, row), np.uint8)\n",
    "    \n",
    "    greatest = max(conts, key=cv.contourArea)\n",
    "\n",
    "    mask = np.zeros((col, row), np.uint8)\n",
    "    mask = cv.drawContours(mask, [greatest], -1, 255, 1)\n",
    "    return mask"
   ]
  },
  {
   "cell_type": "code",
   "execution_count": 8,
   "metadata": {},
   "outputs": [],
   "source": [
    "# idx = np.arange(len(kaggle_dataset_label))\n",
    "# np.random.shuffle(idx)\n",
    "# idx = idx[:30]\n",
    "\n",
    "# for i in idx:\n",
    "#     path = kaggle_dataset_label[f'{i}.jpg']\n",
    "#     fig, (ax1, ax2) = plt.subplots(ncols=2, figsize=(15,15))\n",
    "\n",
    "#     mask = processMask(path)\n",
    "#     ax1.imshow(cv.imread(path))\n",
    "#     ax2.imshow(mask)\n",
    "\n",
    "#     plt.savefig(f'./temp/{str(path).split('\\\\')[-1]}')\n",
    "#     plt.clf()"
   ]
  },
  {
   "cell_type": "code",
   "execution_count": 22,
   "metadata": {},
   "outputs": [],
   "source": [
    "images = [[f'./data/masks/{path.name}', f'./data/images/{path.name}'] for path in Path('data/images').iterdir()]\n",
    "images = images[:len(images) // 4]"
   ]
  },
  {
   "cell_type": "code",
   "execution_count": 23,
   "metadata": {},
   "outputs": [],
   "source": [
    "train_primary, test = train_test_split(images, test_size=0.3)\n",
    "train, val = train_test_split(train_primary, test_size=0.3)"
   ]
  },
  {
   "cell_type": "code",
   "execution_count": 25,
   "metadata": {},
   "outputs": [],
   "source": [
    "def writeImage(type, data):\n",
    "    for pair in data:\n",
    "        mask = processMask(pair[0])\n",
    "        img = cv.imread(pair[1])\n",
    "        name = pair[0].split('/')[-1]\n",
    "\n",
    "        cv.imwrite(f'./UNet-3-Plus/dataset/{type}/images/{name}', img)\n",
    "        cv.imwrite(f'./UNet-3-Plus/dataset/{type}/mask/{name}', mask)"
   ]
  },
  {
   "cell_type": "code",
   "execution_count": 21,
   "metadata": {},
   "outputs": [],
   "source": [
    "writeImage('test', test)\n",
    "writeImage('train', train)\n",
    "writeImage('val', val)"
   ]
  },
  {
   "cell_type": "code",
   "execution_count": 16,
   "metadata": {},
   "outputs": [],
   "source": [
    "removeFrom('./UNet-3-Plus/dataset/val/images/')\n",
    "removeFrom('./UNet-3-Plus/dataset/val/mask/')"
   ]
  },
  {
   "cell_type": "code",
   "execution_count": 13,
   "metadata": {},
   "outputs": [],
   "source": [
    "import os\n",
    "def removeFrom(path):\n",
    "    for p in Path(path).iterdir():\n",
    "        os.remove(p.absolute())"
   ]
  },
  {
   "cell_type": "code",
   "execution_count": 402,
   "metadata": {},
   "outputs": [
    {
     "name": "stdout",
     "output_type": "stream",
     "text": [
      "\n",
      "image 1/1 c:\\Users\\User\\work\\excellent-coastlines\\screen3br.png: 1024x1024 19936.6ms\n",
      "Speed: 50.9ms preprocess, 19936.6ms inference, 0.0ms postprocess per image at shape (1, 3, 1024, 1024)\n"
     ]
    }
   ],
   "source": [
    "model = SAM('sam_b.pt')\n",
    "result = model('screen3br.png', points=[[800, 1750]])"
   ]
  },
  {
   "cell_type": "code",
   "execution_count": 398,
   "metadata": {},
   "outputs": [
    {
     "data": {
      "image/jpeg": "[encoded data removed]",
      "image/png": "[encoded data removed]",
      "text/plain": [
       "<PIL.Image.Image image mode=L size=1157x836>"
      ]
     },
     "execution_count": 398,
     "metadata": {},
     "output_type": "execute_result"
    }
   ],
   "source": [
    "mask = result[0].masks[0].data.numpy()[0].astype(np.uint8)\n",
    "\n",
    "mask[mask == 1] = 255\n",
    "Image.fromarray(mask)"
   ]
  }
 ],
 "metadata": {
  "kernelspec": {
   "display_name": "Python 3",
   "language": "python",
   "name": "python3"
  },
  "language_info": {
   "codemirror_mode": {
    "name": "ipython",
    "version": 3
   },
   "file_extension": ".py",
   "mimetype": "text/x-python",
   "name": "python",
   "nbconvert_exporter": "python",
   "pygments_lexer": "ipython3",
   "version": "3.11.9"
  }
 },
 "nbformat": 4,
 "nbformat_minor": 2
}
